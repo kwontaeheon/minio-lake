{
 "cells": [
  {
   "cell_type": "code",
   "execution_count": null,
   "id": "66a8e758-8e52-477b-b544-9600a88906ac",
   "metadata": {},
   "outputs": [],
   "source": []
  },
  {
   "cell_type": "code",
   "execution_count": 1,
   "id": "65792050-2229-4ce5-a8c2-6d59e9b61e62",
   "metadata": {},
   "outputs": [],
   "source": [
    "import os\n",
    "os.environ['AWS_ACCESS_KEY_ID']='hive'\n",
    "os.environ['AWS_SECRET_ACCESS_KEY']='#202203sdf'\n",
    "os.environ['AWS_REGION']='us-east-1'\n",
    "           \n",
    "# spark-shell --packages org.apache.iceberg:iceberg-spark-runtime-3.2_2.12:0.13.1,org.apache.iceberg:iceberg-hive-runtime:0.13.1,org.apache.hadoop:hadoop-aws:3.3.1,software.amazon.awssdk:bundle:2.15.40,software.amazon.awssdk:url-connection-client:2.15.40  --conf spark.sql.catalog.demo=org.apache.iceberg.spark.SparkCatalog    --conf spark.sql.catalog.demo.uri=thrift://localhost:9083  --conf spark.sql.catalog.demo.type=hive      --conf spark.sql.catalog.demo.io-impl=org.apache.iceberg.aws.s3.S3FileIO --conf  spark.sql.catalog.demo.warehouse=s3a://warehouse/   --conf spark.sql.catalog.demo.s3.endpoint=http://localhost:9000   --conf spark.sql.defaultCatalog=demo --conf spark.hadoop.fs.s3a.impl=org.apache.hadoop.fs.s3a.S3AFileSystem\n",
    "# --conf spark.sql.catalog.spark_catalog.io-impl=org.apache.iceberg.aws.s3.S3FileIO\n",
    "# --conf spark.sql.catalog.spark_catalog.s3.endpoint=http://minio:9000 \n",
    "os.environ['PYSPARK_SUBMIT_ARGS'] = '--packages org.apache.iceberg:iceberg-spark-runtime-3.2_2.12:0.13.1,org.apache.iceberg:iceberg-hive-runtime:0.13.1,org.apache.hadoop:hadoop-aws:3.3.1,software.amazon.awssdk:bundle:2.15.40,software.amazon.awssdk:url-connection-client:2.15.40 --conf spark.sql.catalog.spark_catalog=org.apache.iceberg.spark.SparkSessionCatalog --conf spark.sql.catalog.spark_catalog.type=hive --conf spark.sql.catalog.spark_catalog.cache-enabled=false  --conf spark.sql.catalog.spark_catalog.warehouse=s3a://hive/ --conf spark.hadoop.fs.s3a.impl=org.apache.hadoop.fs.s3a.S3AFileSystem --conf spark.sql.catalog.spark_catalog.uri=thrift://hive-metastore:9083 --conf spark.sql.catalog.spark_catalog.hadoop.fs.s3a.endpoint=http://minio:9000 --conf spark.sql.catalog.spark_catalog.s3a.endpoint=http://minio:9000 --conf spark.sql.extensions=org.apache.iceberg.spark.extensions.IcebergSparkSessionExtensions pyspark-shell'\n",
    "\n",
    "from pyspark.sql import SparkSession\n",
    "\n",
    "tableName = \"tbltestpython\"\n",
    "\n",
    "# Enable SQL/DML commands and Metastore tables for the current spark session.\n",
    "# We need to set the following configs\n",
    "\n",
    "  \n",
    "aws_key = 'hive'\n",
    "aws_secret = '#202203sdf'\n",
    "spark = SparkSession.builder.appName(\"quickstart_sql\").master(\"local[*]\") \\\n",
    "  .config('spark.hadoop.fs.s3a.aws.credentials.provider', 'org.apache.hadoop.fs.s3a.SimpleAWSCredentialsProvider') \\\n",
    "  .config(\"spark.hadoop.fs.s3a.path.style.access\", True) \\\n",
    "  .config('spark.hadoop.fs.s3a.access.key', aws_key) \\\n",
    "  .config('spark.hadoop.fs.s3a.secret.key',  aws_secret) \\\n",
    "  .config('spark.hadoop.fs.s3a.endpoint', 'http://minio:9000') \\\n",
    "  .config(\"spark.hadoop.fs.s3a.impl\", \"org.apache.hadoop.fs.s3a.S3AFileSystem\") \\\n",
    "  .config(\"hive.metastore.warehouse.dir\", \"s3a://hive/\") \\\n",
    "  .config(\"spark.sql.warehouse.dir\", \"s3a://hive/\") \\\n",
    "  .config(\"spark.hadoop.hive.metastore.warehouse.dir\", \"s3a://hive/\") \\\n",
    "  .enableHiveSupport().getOrCreate()\n",
    "\n"
   ]
  },
  {
   "cell_type": "code",
   "execution_count": 14,
   "id": "d48f1512-bd0e-4961-b75a-300c9e593dfc",
   "metadata": {},
   "outputs": [
    {
     "data": {
      "text/plain": [
       "DataFrame[]"
      ]
     },
     "execution_count": 14,
     "metadata": {},
     "output_type": "execute_result"
    }
   ],
   "source": [
    "spark.sql(\"use spark_catalog.default\")"
   ]
  },
  {
   "cell_type": "code",
   "execution_count": 2,
   "id": "169866a6-ee1d-4a5c-8a3e-04225511c413",
   "metadata": {},
   "outputs": [
    {
     "name": "stdout",
     "output_type": "stream",
     "text": [
      "+---------+---------+-----------+\n",
      "|namespace|tableName|isTemporary|\n",
      "+---------+---------+-----------+\n",
      "+---------+---------+-----------+\n",
      "\n"
     ]
    }
   ],
   "source": [
    "spark.sql(\"show tables\").show()"
   ]
  },
  {
   "cell_type": "code",
   "execution_count": 5,
   "id": "1ac18ea3-3390-4bc9-b220-c8f696e49b1d",
   "metadata": {},
   "outputs": [
    {
     "data": {
      "text/plain": [
       "DataFrame[]"
      ]
     },
     "execution_count": 5,
     "metadata": {},
     "output_type": "execute_result"
    }
   ],
   "source": [
    "spark.sql(f\"drop table if exists {tableName}\")"
   ]
  },
  {
   "cell_type": "code",
   "execution_count": 2,
   "id": "701e6986-7015-411b-b730-f715c04df557",
   "metadata": {},
   "outputs": [
    {
     "data": {
      "text/plain": [
       "DataFrame[]"
      ]
     },
     "execution_count": 2,
     "metadata": {},
     "output_type": "execute_result"
    }
   ],
   "source": [
    "spark.sql(f\"CREATE TABLE if not exists {tableName}(id LONG) USING iceberg location 's3a://hive/{tableName}'\")"
   ]
  },
  {
   "cell_type": "code",
   "execution_count": 7,
   "id": "7026f9af-ee82-4f62-9b52-15d5f78fd9ac",
   "metadata": {},
   "outputs": [
    {
     "name": "stdout",
     "output_type": "stream",
     "text": [
      "+---+\n",
      "| id|\n",
      "+---+\n",
      "+---+\n",
      "\n"
     ]
    }
   ],
   "source": [
    "spark.sql(f\"select * from {tableName}\").show()"
   ]
  },
  {
   "cell_type": "code",
   "execution_count": 7,
   "id": "68b2543a-238a-46c2-acfd-df9c91aded7b",
   "metadata": {},
   "outputs": [
    {
     "data": {
      "text/plain": [
       "DataFrame[]"
      ]
     },
     "execution_count": 7,
     "metadata": {},
     "output_type": "execute_result"
    }
   ],
   "source": [
    "spark.sql(\"drop table if exists newData\")"
   ]
  },
  {
   "cell_type": "code",
   "execution_count": 3,
   "id": "baaaa7a3-ca16-4dd4-a1f4-7f7dbae35795",
   "metadata": {},
   "outputs": [
    {
     "ename": "AnalysisException",
     "evalue": "org.apache.hadoop.hive.ql.metadata.HiveException: MetaException(message:file:/user/hive/warehouse/newdata is not a directory or unable to create one)",
     "output_type": "error",
     "traceback": [
      "\u001b[0;31m---------------------------------------------------------------------------\u001b[0m",
      "\u001b[0;31mAnalysisException\u001b[0m                         Traceback (most recent call last)",
      "Input \u001b[0;32mIn [3]\u001b[0m, in \u001b[0;36m<cell line: 1>\u001b[0;34m()\u001b[0m\n\u001b[0;32m----> 1\u001b[0m \u001b[43mspark\u001b[49m\u001b[38;5;241;43m.\u001b[39;49m\u001b[43msql\u001b[49m\u001b[43m(\u001b[49m\u001b[38;5;124;43m\"\u001b[39;49m\u001b[38;5;124;43mCREATE TABLE if not exists newData(id LONG) USING parquet\u001b[39;49m\u001b[38;5;124;43m\"\u001b[39;49m\u001b[43m)\u001b[49m\n",
      "File \u001b[0;32m/usr/local/spark/python/pyspark/sql/session.py:723\u001b[0m, in \u001b[0;36mSparkSession.sql\u001b[0;34m(self, sqlQuery)\u001b[0m\n\u001b[1;32m    707\u001b[0m \u001b[38;5;28;01mdef\u001b[39;00m \u001b[38;5;21msql\u001b[39m(\u001b[38;5;28mself\u001b[39m, sqlQuery):\n\u001b[1;32m    708\u001b[0m     \u001b[38;5;124;03m\"\"\"Returns a :class:`DataFrame` representing the result of the given query.\u001b[39;00m\n\u001b[1;32m    709\u001b[0m \n\u001b[1;32m    710\u001b[0m \u001b[38;5;124;03m    .. versionadded:: 2.0.0\u001b[39;00m\n\u001b[0;32m   (...)\u001b[0m\n\u001b[1;32m    721\u001b[0m \u001b[38;5;124;03m    [Row(f1=1, f2='row1'), Row(f1=2, f2='row2'), Row(f1=3, f2='row3')]\u001b[39;00m\n\u001b[1;32m    722\u001b[0m \u001b[38;5;124;03m    \"\"\"\u001b[39;00m\n\u001b[0;32m--> 723\u001b[0m     \u001b[38;5;28;01mreturn\u001b[39;00m DataFrame(\u001b[38;5;28;43mself\u001b[39;49m\u001b[38;5;241;43m.\u001b[39;49m\u001b[43m_jsparkSession\u001b[49m\u001b[38;5;241;43m.\u001b[39;49m\u001b[43msql\u001b[49m\u001b[43m(\u001b[49m\u001b[43msqlQuery\u001b[49m\u001b[43m)\u001b[49m, \u001b[38;5;28mself\u001b[39m\u001b[38;5;241m.\u001b[39m_wrapped)\n",
      "File \u001b[0;32m/usr/local/spark/python/lib/py4j-0.10.9.3-src.zip/py4j/java_gateway.py:1321\u001b[0m, in \u001b[0;36mJavaMember.__call__\u001b[0;34m(self, *args)\u001b[0m\n\u001b[1;32m   1315\u001b[0m command \u001b[38;5;241m=\u001b[39m proto\u001b[38;5;241m.\u001b[39mCALL_COMMAND_NAME \u001b[38;5;241m+\u001b[39m\\\n\u001b[1;32m   1316\u001b[0m     \u001b[38;5;28mself\u001b[39m\u001b[38;5;241m.\u001b[39mcommand_header \u001b[38;5;241m+\u001b[39m\\\n\u001b[1;32m   1317\u001b[0m     args_command \u001b[38;5;241m+\u001b[39m\\\n\u001b[1;32m   1318\u001b[0m     proto\u001b[38;5;241m.\u001b[39mEND_COMMAND_PART\n\u001b[1;32m   1320\u001b[0m answer \u001b[38;5;241m=\u001b[39m \u001b[38;5;28mself\u001b[39m\u001b[38;5;241m.\u001b[39mgateway_client\u001b[38;5;241m.\u001b[39msend_command(command)\n\u001b[0;32m-> 1321\u001b[0m return_value \u001b[38;5;241m=\u001b[39m \u001b[43mget_return_value\u001b[49m\u001b[43m(\u001b[49m\n\u001b[1;32m   1322\u001b[0m \u001b[43m    \u001b[49m\u001b[43manswer\u001b[49m\u001b[43m,\u001b[49m\u001b[43m \u001b[49m\u001b[38;5;28;43mself\u001b[39;49m\u001b[38;5;241;43m.\u001b[39;49m\u001b[43mgateway_client\u001b[49m\u001b[43m,\u001b[49m\u001b[43m \u001b[49m\u001b[38;5;28;43mself\u001b[39;49m\u001b[38;5;241;43m.\u001b[39;49m\u001b[43mtarget_id\u001b[49m\u001b[43m,\u001b[49m\u001b[43m \u001b[49m\u001b[38;5;28;43mself\u001b[39;49m\u001b[38;5;241;43m.\u001b[39;49m\u001b[43mname\u001b[49m\u001b[43m)\u001b[49m\n\u001b[1;32m   1324\u001b[0m \u001b[38;5;28;01mfor\u001b[39;00m temp_arg \u001b[38;5;129;01min\u001b[39;00m temp_args:\n\u001b[1;32m   1325\u001b[0m     temp_arg\u001b[38;5;241m.\u001b[39m_detach()\n",
      "File \u001b[0;32m/usr/local/spark/python/pyspark/sql/utils.py:117\u001b[0m, in \u001b[0;36mcapture_sql_exception.<locals>.deco\u001b[0;34m(*a, **kw)\u001b[0m\n\u001b[1;32m    113\u001b[0m converted \u001b[38;5;241m=\u001b[39m convert_exception(e\u001b[38;5;241m.\u001b[39mjava_exception)\n\u001b[1;32m    114\u001b[0m \u001b[38;5;28;01mif\u001b[39;00m \u001b[38;5;129;01mnot\u001b[39;00m \u001b[38;5;28misinstance\u001b[39m(converted, UnknownException):\n\u001b[1;32m    115\u001b[0m     \u001b[38;5;66;03m# Hide where the exception came from that shows a non-Pythonic\u001b[39;00m\n\u001b[1;32m    116\u001b[0m     \u001b[38;5;66;03m# JVM exception message.\u001b[39;00m\n\u001b[0;32m--> 117\u001b[0m     \u001b[38;5;28;01mraise\u001b[39;00m converted \u001b[38;5;28;01mfrom\u001b[39;00m \u001b[38;5;28mNone\u001b[39m\n\u001b[1;32m    118\u001b[0m \u001b[38;5;28;01melse\u001b[39;00m:\n\u001b[1;32m    119\u001b[0m     \u001b[38;5;28;01mraise\u001b[39;00m\n",
      "\u001b[0;31mAnalysisException\u001b[0m: org.apache.hadoop.hive.ql.metadata.HiveException: MetaException(message:file:/user/hive/warehouse/newdata is not a directory or unable to create one)"
     ]
    }
   ],
   "source": [
    "spark.sql(\"CREATE TABLE if not exists newData(id LONG) USING parquet\")"
   ]
  },
  {
   "cell_type": "code",
   "execution_count": 4,
   "id": "f6398314-1a9f-48c1-9c8d-b85a7c536c10",
   "metadata": {},
   "outputs": [
    {
     "ename": "AnalysisException",
     "evalue": "Table or permanent view not found: newData; line 1 pos 18;\n'ShowCreateTable false, [createtab_stmt#12]\n+- 'UnresolvedTableOrView [newData], SHOW CREATE TABLE, false\n",
     "output_type": "error",
     "traceback": [
      "\u001b[0;31m---------------------------------------------------------------------------\u001b[0m",
      "\u001b[0;31mAnalysisException\u001b[0m                         Traceback (most recent call last)",
      "Input \u001b[0;32mIn [4]\u001b[0m, in \u001b[0;36m<cell line: 1>\u001b[0;34m()\u001b[0m\n\u001b[0;32m----> 1\u001b[0m \u001b[43mspark\u001b[49m\u001b[38;5;241;43m.\u001b[39;49m\u001b[43msql\u001b[49m\u001b[43m(\u001b[49m\u001b[38;5;124;43m\"\u001b[39;49m\u001b[38;5;124;43mshow create table newData\u001b[39;49m\u001b[38;5;124;43m\"\u001b[39;49m\u001b[43m)\u001b[49m\u001b[38;5;241m.\u001b[39mshow(\u001b[38;5;241m10\u001b[39m, \u001b[38;5;28;01mFalse\u001b[39;00m)\n",
      "File \u001b[0;32m/usr/local/spark/python/pyspark/sql/session.py:723\u001b[0m, in \u001b[0;36mSparkSession.sql\u001b[0;34m(self, sqlQuery)\u001b[0m\n\u001b[1;32m    707\u001b[0m \u001b[38;5;28;01mdef\u001b[39;00m \u001b[38;5;21msql\u001b[39m(\u001b[38;5;28mself\u001b[39m, sqlQuery):\n\u001b[1;32m    708\u001b[0m     \u001b[38;5;124;03m\"\"\"Returns a :class:`DataFrame` representing the result of the given query.\u001b[39;00m\n\u001b[1;32m    709\u001b[0m \n\u001b[1;32m    710\u001b[0m \u001b[38;5;124;03m    .. versionadded:: 2.0.0\u001b[39;00m\n\u001b[0;32m   (...)\u001b[0m\n\u001b[1;32m    721\u001b[0m \u001b[38;5;124;03m    [Row(f1=1, f2='row1'), Row(f1=2, f2='row2'), Row(f1=3, f2='row3')]\u001b[39;00m\n\u001b[1;32m    722\u001b[0m \u001b[38;5;124;03m    \"\"\"\u001b[39;00m\n\u001b[0;32m--> 723\u001b[0m     \u001b[38;5;28;01mreturn\u001b[39;00m DataFrame(\u001b[38;5;28;43mself\u001b[39;49m\u001b[38;5;241;43m.\u001b[39;49m\u001b[43m_jsparkSession\u001b[49m\u001b[38;5;241;43m.\u001b[39;49m\u001b[43msql\u001b[49m\u001b[43m(\u001b[49m\u001b[43msqlQuery\u001b[49m\u001b[43m)\u001b[49m, \u001b[38;5;28mself\u001b[39m\u001b[38;5;241m.\u001b[39m_wrapped)\n",
      "File \u001b[0;32m/usr/local/spark/python/lib/py4j-0.10.9.3-src.zip/py4j/java_gateway.py:1321\u001b[0m, in \u001b[0;36mJavaMember.__call__\u001b[0;34m(self, *args)\u001b[0m\n\u001b[1;32m   1315\u001b[0m command \u001b[38;5;241m=\u001b[39m proto\u001b[38;5;241m.\u001b[39mCALL_COMMAND_NAME \u001b[38;5;241m+\u001b[39m\\\n\u001b[1;32m   1316\u001b[0m     \u001b[38;5;28mself\u001b[39m\u001b[38;5;241m.\u001b[39mcommand_header \u001b[38;5;241m+\u001b[39m\\\n\u001b[1;32m   1317\u001b[0m     args_command \u001b[38;5;241m+\u001b[39m\\\n\u001b[1;32m   1318\u001b[0m     proto\u001b[38;5;241m.\u001b[39mEND_COMMAND_PART\n\u001b[1;32m   1320\u001b[0m answer \u001b[38;5;241m=\u001b[39m \u001b[38;5;28mself\u001b[39m\u001b[38;5;241m.\u001b[39mgateway_client\u001b[38;5;241m.\u001b[39msend_command(command)\n\u001b[0;32m-> 1321\u001b[0m return_value \u001b[38;5;241m=\u001b[39m \u001b[43mget_return_value\u001b[49m\u001b[43m(\u001b[49m\n\u001b[1;32m   1322\u001b[0m \u001b[43m    \u001b[49m\u001b[43manswer\u001b[49m\u001b[43m,\u001b[49m\u001b[43m \u001b[49m\u001b[38;5;28;43mself\u001b[39;49m\u001b[38;5;241;43m.\u001b[39;49m\u001b[43mgateway_client\u001b[49m\u001b[43m,\u001b[49m\u001b[43m \u001b[49m\u001b[38;5;28;43mself\u001b[39;49m\u001b[38;5;241;43m.\u001b[39;49m\u001b[43mtarget_id\u001b[49m\u001b[43m,\u001b[49m\u001b[43m \u001b[49m\u001b[38;5;28;43mself\u001b[39;49m\u001b[38;5;241;43m.\u001b[39;49m\u001b[43mname\u001b[49m\u001b[43m)\u001b[49m\n\u001b[1;32m   1324\u001b[0m \u001b[38;5;28;01mfor\u001b[39;00m temp_arg \u001b[38;5;129;01min\u001b[39;00m temp_args:\n\u001b[1;32m   1325\u001b[0m     temp_arg\u001b[38;5;241m.\u001b[39m_detach()\n",
      "File \u001b[0;32m/usr/local/spark/python/pyspark/sql/utils.py:117\u001b[0m, in \u001b[0;36mcapture_sql_exception.<locals>.deco\u001b[0;34m(*a, **kw)\u001b[0m\n\u001b[1;32m    113\u001b[0m converted \u001b[38;5;241m=\u001b[39m convert_exception(e\u001b[38;5;241m.\u001b[39mjava_exception)\n\u001b[1;32m    114\u001b[0m \u001b[38;5;28;01mif\u001b[39;00m \u001b[38;5;129;01mnot\u001b[39;00m \u001b[38;5;28misinstance\u001b[39m(converted, UnknownException):\n\u001b[1;32m    115\u001b[0m     \u001b[38;5;66;03m# Hide where the exception came from that shows a non-Pythonic\u001b[39;00m\n\u001b[1;32m    116\u001b[0m     \u001b[38;5;66;03m# JVM exception message.\u001b[39;00m\n\u001b[0;32m--> 117\u001b[0m     \u001b[38;5;28;01mraise\u001b[39;00m converted \u001b[38;5;28;01mfrom\u001b[39;00m \u001b[38;5;28mNone\u001b[39m\n\u001b[1;32m    118\u001b[0m \u001b[38;5;28;01melse\u001b[39;00m:\n\u001b[1;32m    119\u001b[0m     \u001b[38;5;28;01mraise\u001b[39;00m\n",
      "\u001b[0;31mAnalysisException\u001b[0m: Table or permanent view not found: newData; line 1 pos 18;\n'ShowCreateTable false, [createtab_stmt#12]\n+- 'UnresolvedTableOrView [newData], SHOW CREATE TABLE, false\n"
     ]
    }
   ],
   "source": [
    "spark.sql(\"show create table newData\").show(10, False)"
   ]
  },
  {
   "cell_type": "code",
   "execution_count": 4,
   "id": "59ad8f8d-c67a-4977-956d-8a75bcd7f1d4",
   "metadata": {},
   "outputs": [
    {
     "name": "stdout",
     "output_type": "stream",
     "text": [
      "############# Creating a table ###############\n",
      "############ Reading the table ###############\n",
      "+---+\n",
      "| id|\n",
      "+---+\n",
      "|  0|\n",
      "|  1|\n",
      "|  2|\n",
      "|  3|\n",
      "|  4|\n",
      "+---+\n",
      "\n",
      "########### Upsert new data #############\n",
      "+---+\n",
      "| id|\n",
      "+---+\n",
      "|  0|\n",
      "|  1|\n",
      "|  5|\n",
      "|  6|\n",
      "|  2|\n",
      "|  3|\n",
      "|  4|\n",
      "+---+\n",
      "\n",
      "########## Overwrite the table ###########\n",
      "+---+\n",
      "| id|\n",
      "+---+\n",
      "|  5|\n",
      "|  6|\n",
      "|  7|\n",
      "|  8|\n",
      "|  9|\n",
      "+---+\n",
      "\n",
      "########### Update to the table(add 100 to every even value) ##############\n",
      "+---+\n",
      "| id|\n",
      "+---+\n",
      "|  5|\n",
      "|106|\n",
      "|  7|\n",
      "|108|\n",
      "|  9|\n",
      "+---+\n",
      "\n",
      "######### Delete every even value ##############\n",
      "+---+\n",
      "| id|\n",
      "+---+\n",
      "|  7|\n",
      "|  9|\n",
      "|  5|\n",
      "+---+\n",
      "\n",
      "######## Read old data using time travel ############\n",
      "+---+\n",
      "| id|\n",
      "+---+\n",
      "|  7|\n",
      "|  9|\n",
      "|  5|\n",
      "+---+\n",
      "\n",
      "fin\n"
     ]
    }
   ],
   "source": [
    "\n",
    "try:\n",
    "    # Create a table\n",
    "    print(\"############# Creating a table ###############\")\n",
    "    spark.sql(\"drop table if exists %s\" % tableName)\n",
    "    spark.sql(f\"CREATE TABLE if not exists {tableName}(id LONG) USING iceberg location 's3a://hive/{tableName}' \")\n",
    "    spark.sql(\"truncate table %s\" % tableName)\n",
    "    spark.sql(\"INSERT INTO %s VALUES 0, 1, 2, 3, 4\" % tableName)\n",
    "\n",
    "    # Read the table\n",
    "    print(\"############ Reading the table ###############\")\n",
    "    spark.sql(\"SELECT * FROM %s\" % tableName).show()\n",
    "\n",
    "    # Upsert (merge) new data\n",
    "    print(\"########### Upsert new data #############\")\n",
    "    spark.sql(\"drop table if exists newData\")\n",
    "    spark.sql(\"CREATE TABLE if not exists newData(id LONG) USING iceberg location 's3a://hive/{tableName}'   \")\n",
    "    spark.sql(\"truncate table newData\")\n",
    "    spark.sql(\"INSERT INTO newData VALUES 3, 4, 5, 6\")\n",
    "\n",
    "    spark.sql('''MERGE INTO {0} USING newData\n",
    "            ON {0}.id = newData.id\n",
    "            WHEN MATCHED THEN\n",
    "              UPDATE SET {0}.id = newData.id\n",
    "            WHEN NOT MATCHED THEN INSERT *\n",
    "        '''.format(tableName))\n",
    "\n",
    "    spark.sql(\"SELECT * FROM %s\" % tableName).show()\n",
    "\n",
    "    # Update table data\n",
    "    print(\"########## Overwrite the table ###########\")\n",
    "    spark.sql(\"INSERT OVERWRITE %s select * FROM (VALUES 5, 6, 7, 8, 9) x (id)\" % tableName)\n",
    "    spark.sql(\"SELECT * FROM %s\" % tableName).show()\n",
    "\n",
    "    # Update every even value by adding 100 to it\n",
    "    print(\"########### Update to the table(add 100 to every even value) ##############\")\n",
    "    spark.sql(\"UPDATE {0} SET id = (id + 100) WHERE (id % 2 == 0)\".format(tableName))\n",
    "    spark.sql(\"SELECT * FROM %s\" % tableName).show()\n",
    "\n",
    "    # Delete every even value\n",
    "    print(\"######### Delete every even value ##############\")\n",
    "    spark.sql(\"DELETE FROM {0} WHERE (id % 2 == 0)\".format(tableName))\n",
    "    spark.sql(\"SELECT * FROM %s\" % tableName).show()\n",
    "\n",
    "    # Read old version of data using time travel\n",
    "    print(\"######## Read old data using time travel ############\")\n",
    "    df = spark.read.format(\"delta\").option(\"versionAsOf\", 1).table(tableName)\n",
    "    df.show()\n",
    "\n",
    "finally:\n",
    "    # cleanup\n",
    "    print(\"fin\")\n",
    "    # spark.sql(\"select * from \" + tableName ).show()\n",
    "    #spark.sql(\"DROP TABLE IF EXISTS \" + tableName)\n",
    "    #spark.sql(\"DROP TABLE IF EXISTS newData\")"
   ]
  },
  {
   "cell_type": "code",
   "execution_count": 5,
   "id": "7a990934-7940-4f5e-b2f7-33d3df798cf2",
   "metadata": {},
   "outputs": [
    {
     "data": {
      "text/plain": [
       "DataFrame[]"
      ]
     },
     "execution_count": 5,
     "metadata": {},
     "output_type": "execute_result"
    }
   ],
   "source": [
    "spark.sql(\"UPDATE {0} SET id = (id + 100) WHERE (id % 2 == 1)\".format(tableName))"
   ]
  },
  {
   "cell_type": "code",
   "execution_count": 6,
   "id": "532eaadb-c0ab-4b50-ad29-fbc6a2aab791",
   "metadata": {},
   "outputs": [
    {
     "name": "stdout",
     "output_type": "stream",
     "text": [
      "+---+\n",
      "| id|\n",
      "+---+\n",
      "|107|\n",
      "|109|\n",
      "|105|\n",
      "+---+\n",
      "\n"
     ]
    }
   ],
   "source": [
    "spark.table(tableName).show()"
   ]
  },
  {
   "cell_type": "code",
   "execution_count": 13,
   "id": "45569c68-be8d-4ec6-8b80-ae6443d81396",
   "metadata": {},
   "outputs": [
    {
     "data": {
      "text/plain": [
       "DataFrame[]"
      ]
     },
     "execution_count": 13,
     "metadata": {},
     "output_type": "execute_result"
    }
   ],
   "source": []
  },
  {
   "cell_type": "code",
   "execution_count": null,
   "id": "64d0f37a-dc76-4c07-8042-b447cd89e376",
   "metadata": {},
   "outputs": [],
   "source": []
  }
 ],
 "metadata": {
  "kernelspec": {
   "display_name": "Python 3 (ipykernel)",
   "language": "python",
   "name": "python3"
  },
  "language_info": {
   "codemirror_mode": {
    "name": "ipython",
    "version": 3
   },
   "file_extension": ".py",
   "mimetype": "text/x-python",
   "name": "python",
   "nbconvert_exporter": "python",
   "pygments_lexer": "ipython3",
   "version": "3.9.12"
  }
 },
 "nbformat": 4,
 "nbformat_minor": 5
}
