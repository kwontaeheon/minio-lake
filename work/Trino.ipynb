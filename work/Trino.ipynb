{
 "cells": [
  {
   "cell_type": "code",
   "execution_count": 1,
   "id": "7f7f6c74-b7b0-43c5-a48d-e205e4604426",
   "metadata": {},
   "outputs": [
    {
     "name": "stdout",
     "output_type": "stream",
     "text": [
      "Collecting trino\n",
      "  Downloading trino-0.313.0-py3-none-any.whl (36 kB)\n",
      "Requirement already satisfied: requests in /opt/conda/lib/python3.9/site-packages (from trino) (2.27.1)\n",
      "Requirement already satisfied: pytz in /opt/conda/lib/python3.9/site-packages (from trino) (2022.1)\n",
      "Requirement already satisfied: charset-normalizer~=2.0.0 in /opt/conda/lib/python3.9/site-packages (from requests->trino) (2.0.12)\n",
      "Requirement already satisfied: urllib3<1.27,>=1.21.1 in /opt/conda/lib/python3.9/site-packages (from requests->trino) (1.26.9)\n",
      "Requirement already satisfied: certifi>=2017.4.17 in /opt/conda/lib/python3.9/site-packages (from requests->trino) (2021.10.8)\n",
      "Requirement already satisfied: idna<4,>=2.5 in /opt/conda/lib/python3.9/site-packages (from requests->trino) (3.3)\n",
      "Installing collected packages: trino\n",
      "Successfully installed trino-0.313.0\n"
     ]
    }
   ],
   "source": [
    "!pip install trino"
   ]
  },
  {
   "cell_type": "code",
   "execution_count": 27,
   "id": "2fbd6cfc-ce8e-41e4-8b42-68725e045edf",
   "metadata": {},
   "outputs": [
    {
     "name": "stdout",
     "output_type": "stream",
     "text": [
      "connecting..\n",
      "connected\n",
      "[]\n"
     ]
    }
   ],
   "source": [
    "print('connecting..')\n",
    "from trino.dbapi import connect\n",
    "conn = connect(\n",
    "    host=\"trino\",\n",
    "    port=8080,\n",
    "    user=\"trino\",\n",
    "    catalog=\"iceberg\",\n",
    "    schema=\"default\",\n",
    ")\n",
    "print('connected')\n",
    "import json\n",
    "cur = conn.cursor()\n",
    "cur.execute(\"create schema if not exists iceberg.hive with (location='s3a://hive/')\")\n",
    "cur.execute(\"create table if not exists iceberg.hive.iceberg_trino1(id varchar)\")\n",
    "\n",
    "cur.execute(\"select * from iceberg.hive.iceberg_trino1\")\n",
    "\n",
    "rows = cur.fetchall()\n",
    "print(rows)"
   ]
  },
  {
   "cell_type": "code",
   "execution_count": 24,
   "id": "236ddd7c-5451-4288-a7d2-b9ed73f27ae5",
   "metadata": {},
   "outputs": [
    {
     "data": {
      "text/plain": [
       "[True]"
      ]
     },
     "execution_count": 24,
     "metadata": {},
     "output_type": "execute_result"
    }
   ],
   "source": [
    "cur.fetchone()"
   ]
  },
  {
   "cell_type": "code",
   "execution_count": 25,
   "id": "66fd83fd-fb65-4307-8e73-901790022b00",
   "metadata": {},
   "outputs": [
    {
     "data": {
      "text/plain": [
       "[['iceberg_trino1']]"
      ]
     },
     "execution_count": 25,
     "metadata": {},
     "output_type": "execute_result"
    }
   ],
   "source": [
    "cur.execute(\"show tables\")\n",
    "\n",
    "cur.fetchall()"
   ]
  },
  {
   "cell_type": "code",
   "execution_count": null,
   "id": "f2734fe0-9939-44c6-93a9-771635fb2929",
   "metadata": {},
   "outputs": [],
   "source": []
  },
  {
   "cell_type": "code",
   "execution_count": null,
   "id": "76407d3d-4610-406a-92b1-28062e8d5a20",
   "metadata": {},
   "outputs": [],
   "source": []
  }
 ],
 "metadata": {
  "kernelspec": {
   "display_name": "Python 3 (ipykernel)",
   "language": "python",
   "name": "python3"
  },
  "language_info": {
   "codemirror_mode": {
    "name": "ipython",
    "version": 3
   },
   "file_extension": ".py",
   "mimetype": "text/x-python",
   "name": "python",
   "nbconvert_exporter": "python",
   "pygments_lexer": "ipython3",
   "version": "3.9.12"
  }
 },
 "nbformat": 4,
 "nbformat_minor": 5
}
